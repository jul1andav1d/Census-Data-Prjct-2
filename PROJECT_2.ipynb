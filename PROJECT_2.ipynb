{
  "nbformat": 4,
  "nbformat_minor": 0,
  "metadata": {
    "colab": {
      "name": "PROJECT 2.ipynb",
      "provenance": [],
      "collapsed_sections": [],
      "authorship_tag": "ABX9TyOVPMebk3wQwYERcmqdZbR1",
      "include_colab_link": true
    },
    "kernelspec": {
      "name": "python3",
      "display_name": "Python 3"
    },
    "language_info": {
      "name": "python"
    }
  },
  "cells": [
    {
      "cell_type": "markdown",
      "metadata": {
        "id": "view-in-github",
        "colab_type": "text"
      },
      "source": [
        "<a href=\"https://colab.research.google.com/github/jul1andav1d/Project-2/blob/main/PROJECT_2.ipynb\" target=\"_parent\"><img src=\"https://colab.research.google.com/assets/colab-badge.svg\" alt=\"Open In Colab\"/></a>"
      ]
    },
    {
      "cell_type": "markdown",
      "source": [
        "#For this task:\n",
        "\n",
        "Create a Colab notebook where you have uploaded and shown the .head() of each of your data sets.  For each of the proposed datasets, answer the following questions:\n",
        "\n",
        "#First choice: dataset 1\n",
        "\n",
        "1) Source of data\n",
        "\n",
        "2) Brief description of data\n",
        "\n",
        "3) What is the target?\n",
        "\n",
        "4) Is this a classification or regression problem?\n",
        "\n",
        "5) How many features?\n",
        "\n",
        "6) How many rows of data.\n",
        "\n",
        "7) What, if any, challenges do your foresee in cleaning, exploring, or modeling with this dataset?"
      ],
      "metadata": {
        "id": "p7t31uI3Fkn6"
      }
    },
    {
      "cell_type": "code",
      "source": [
        "# I looked everywhere on the Internet and found 3 Data sets.\n",
        "# But im having a hard time to analize all of them to chose the best one.\n",
        "\n",
        "\n",
        "\n",
        "#df.head()"
      ],
      "metadata": {
        "id": "Piu0QU8xXv_H"
      },
      "execution_count": 1,
      "outputs": []
    },
    {
      "cell_type": "code",
      "source": [
        "#How many features\n",
        "\n",
        "#y.value_counts()"
      ],
      "metadata": {
        "id": "fFA_4OO-GyOj"
      },
      "execution_count": null,
      "outputs": []
    },
    {
      "cell_type": "code",
      "execution_count": null,
      "metadata": {
        "id": "YwVRhaGxFVII"
      },
      "outputs": [],
      "source": [
        "#How many rows\n",
        "\n",
        "#df.info()"
      ]
    },
    {
      "cell_type": "code",
      "source": [
        ""
      ],
      "metadata": {
        "id": "PMkUD9_YGqaa"
      },
      "execution_count": null,
      "outputs": []
    },
    {
      "cell_type": "code",
      "source": [
        ""
      ],
      "metadata": {
        "id": "5RDVHXHZGqNU"
      },
      "execution_count": null,
      "outputs": []
    },
    {
      "cell_type": "code",
      "source": [
        ""
      ],
      "metadata": {
        "id": "M5QZJlucGqEq"
      },
      "execution_count": null,
      "outputs": []
    },
    {
      "cell_type": "code",
      "source": [
        ""
      ],
      "metadata": {
        "id": "hQD7uLeGGqAB"
      },
      "execution_count": null,
      "outputs": []
    },
    {
      "cell_type": "markdown",
      "source": [
        "#Second choice: dataset 2\n",
        "\n",
        "1) Source of data\n",
        "\n",
        "2) Brief description of data\n",
        "\n",
        "3) What is the target?\n",
        "\n",
        "4) Is this a classification or regression problem?\n",
        "\n",
        "5) How many features?\n",
        "\n",
        "6) How many rows of data.\n",
        "\n",
        "7) What, if any, challenges do your foresee in cleaning, exploring, or modeling with this dataset?"
      ],
      "metadata": {
        "id": "nretSDlOFr0r"
      }
    },
    {
      "cell_type": "code",
      "source": [
        "# 1)\n",
        "    \n",
        "# Harmonized COVID-19 Household Monitoring Surveys\n",
        "#Source: https://datacatalog.worldbank.org/search/dataset/0037769/Harmonized-COVID-19-Household-Monitoring-Surveys\n",
        "\n",
        "# 2) \n",
        "\n",
        "# Data contains info about socioeconomic impacts on households and individuals.\n",
        "\n",
        "# 3)\n",
        "\n",
        "# "
      ],
      "metadata": {
        "id": "0vEEHOf4FuZ8"
      },
      "execution_count": null,
      "outputs": []
    },
    {
      "cell_type": "code",
      "source": [
        ""
      ],
      "metadata": {
        "id": "XiukTBEWWT3s"
      },
      "execution_count": null,
      "outputs": []
    }
  ]
}