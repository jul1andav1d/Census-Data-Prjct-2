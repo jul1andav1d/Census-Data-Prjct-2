{
  "nbformat": 4,
  "nbformat_minor": 0,
  "metadata": {
    "colab": {
      "name": "PROJECT 2.ipynb",
      "provenance": [],
      "collapsed_sections": [],
      "mount_file_id": "1ji9qcmnkayWuD-S5NexIeDI-6YtDHXLb",
      "authorship_tag": "ABX9TyOzz5JpJ+74Alqt6AeTK1BU",
      "include_colab_link": true
    },
    "kernelspec": {
      "name": "python3",
      "display_name": "Python 3"
    },
    "language_info": {
      "name": "python"
    }
  },
  "cells": [
    {
      "cell_type": "markdown",
      "metadata": {
        "id": "view-in-github",
        "colab_type": "text"
      },
      "source": [
        "<a href=\"https://colab.research.google.com/github/jul1andav1d/Project-2/blob/main/PROJECT_2.ipynb\" target=\"_parent\"><img src=\"https://colab.research.google.com/assets/colab-badge.svg\" alt=\"Open In Colab\"/></a>"
      ]
    },
    {
      "cell_type": "markdown",
      "source": [
        "#For this task:\n",
        "\n",
        "Create a Colab notebook where you have uploaded and shown the .head() of each of your data sets.  For each of the proposed datasets, answer the following questions:\n",
        "\n",
        "#First choice: dataset 1\n",
        "\n",
        "1) Source of data\n",
        "\n",
        "2) Brief description of data\n",
        "\n",
        "3) What is the target?\n",
        "\n",
        "4) Is this a classification or regression problem?\n",
        "\n",
        "5) How many features?\n",
        "\n",
        "6) How many rows of data.\n",
        "\n",
        "7) What, if any, challenges do your foresee in cleaning, exploring, or modeling with this dataset?"
      ],
      "metadata": {
        "id": "p7t31uI3Fkn6"
      }
    },
    {
      "cell_type": "code",
      "source": [
        ""
      ],
      "metadata": {
        "id": "TQSGm_4LCAEe"
      },
      "execution_count": null,
      "outputs": []
    },
    {
      "cell_type": "code",
      "source": [
        "import pandas as pd"
      ],
      "metadata": {
        "id": "Piu0QU8xXv_H"
      },
      "execution_count": 1,
      "outputs": []
    },
    {
      "cell_type": "code",
      "source": [
        "df = pd.read_csv('/content/drive/MyDrive/Data Science - Coding Dojo/PROJECT 2 - GITHUB/COVID data.csv')\n",
        "df.head()"
      ],
      "metadata": {
        "colab": {
          "base_uri": "https://localhost:8080/",
          "height": 582
        },
        "id": "h1yIQgys6Bvo",
        "outputId": "223788f3-dbd2-4fd6-9ff6-ab65ffb88d03"
      },
      "execution_count": 5,
      "outputs": [
        {
          "output_type": "execute_result",
          "data": {
            "text/html": [
              "\n",
              "  <div id=\"df-b1af10fd-5c49-4e19-98d1-efe17cba80a6\">\n",
              "    <div class=\"colab-df-container\">\n",
              "      <div>\n",
              "<style scoped>\n",
              "    .dataframe tbody tr th:only-of-type {\n",
              "        vertical-align: middle;\n",
              "    }\n",
              "\n",
              "    .dataframe tbody tr th {\n",
              "        vertical-align: top;\n",
              "    }\n",
              "\n",
              "    .dataframe thead th {\n",
              "        text-align: right;\n",
              "    }\n",
              "</style>\n",
              "<table border=\"1\" class=\"dataframe\">\n",
              "  <thead>\n",
              "    <tr style=\"text-align: right;\">\n",
              "      <th></th>\n",
              "      <th>ID</th>\n",
              "      <th>ISO</th>\n",
              "      <th>COUNTRY</th>\n",
              "      <th>REGION</th>\n",
              "      <th>ADMIN_LEVEL_NAME</th>\n",
              "      <th>PCODE</th>\n",
              "      <th>LOG_TYPE</th>\n",
              "      <th>CATEGORY</th>\n",
              "      <th>MEASURE</th>\n",
              "      <th>TARGETED_POP_GROUP</th>\n",
              "      <th>COMMENTS</th>\n",
              "      <th>NON_COMPLIANCE</th>\n",
              "      <th>DATE_IMPLEMENTED</th>\n",
              "      <th>SOURCE</th>\n",
              "      <th>SOURCE_TYPE</th>\n",
              "      <th>LINK</th>\n",
              "      <th>ENTRY_DATE</th>\n",
              "      <th>Alternative source</th>\n",
              "    </tr>\n",
              "  </thead>\n",
              "  <tbody>\n",
              "    <tr>\n",
              "      <th>0</th>\n",
              "      <td>4245</td>\n",
              "      <td>AFG</td>\n",
              "      <td>Afghanistan</td>\n",
              "      <td>Asia</td>\n",
              "      <td>NaN</td>\n",
              "      <td>NaN</td>\n",
              "      <td>Introduction / extension of measures</td>\n",
              "      <td>Public health measures</td>\n",
              "      <td>Awareness campaigns</td>\n",
              "      <td>NaN</td>\n",
              "      <td>MoPH begins announcements on their facebook to...</td>\n",
              "      <td>NaN</td>\n",
              "      <td>1/24/2020</td>\n",
              "      <td>Afghanistan MoPH</td>\n",
              "      <td>Government</td>\n",
              "      <td>https://www.facebook.com/af.moph/posts/1005130...</td>\n",
              "      <td>4/7/2020</td>\n",
              "      <td>NaN</td>\n",
              "    </tr>\n",
              "    <tr>\n",
              "      <th>1</th>\n",
              "      <td>4246</td>\n",
              "      <td>AFG</td>\n",
              "      <td>Afghanistan</td>\n",
              "      <td>Asia</td>\n",
              "      <td>NaN</td>\n",
              "      <td>NaN</td>\n",
              "      <td>Introduction / extension of measures</td>\n",
              "      <td>Public health measures</td>\n",
              "      <td>Health screenings in airports and border cross...</td>\n",
              "      <td>checked</td>\n",
              "      <td>Health teams at airports will check passengers...</td>\n",
              "      <td>NaN</td>\n",
              "      <td>1/26/2020</td>\n",
              "      <td>Afghanistan MoPH</td>\n",
              "      <td>Government</td>\n",
              "      <td>https://www.facebook.com/af.moph/posts/1006458...</td>\n",
              "      <td>4/7/2020</td>\n",
              "      <td>NaN</td>\n",
              "    </tr>\n",
              "    <tr>\n",
              "      <th>2</th>\n",
              "      <td>4247</td>\n",
              "      <td>AFG</td>\n",
              "      <td>Afghanistan</td>\n",
              "      <td>Asia</td>\n",
              "      <td>NaN</td>\n",
              "      <td>NaN</td>\n",
              "      <td>Introduction / extension of measures</td>\n",
              "      <td>Movement restrictions</td>\n",
              "      <td>International flights suspension</td>\n",
              "      <td>checked</td>\n",
              "      <td>Flights to China are suspended.</td>\n",
              "      <td>NaN</td>\n",
              "      <td>1/27/2020</td>\n",
              "      <td>Afghanistan MoPH</td>\n",
              "      <td>Government</td>\n",
              "      <td>https://www.facebook.com/af.moph/photos/a.4625...</td>\n",
              "      <td>4/7/2020</td>\n",
              "      <td>NaN</td>\n",
              "    </tr>\n",
              "    <tr>\n",
              "      <th>3</th>\n",
              "      <td>4248</td>\n",
              "      <td>AFG</td>\n",
              "      <td>Afghanistan</td>\n",
              "      <td>Asia</td>\n",
              "      <td>NaN</td>\n",
              "      <td>NaN</td>\n",
              "      <td>Introduction / extension of measures</td>\n",
              "      <td>Public health measures</td>\n",
              "      <td>Health screenings in airports and border cross...</td>\n",
              "      <td>NaN</td>\n",
              "      <td>Health screenings of all passengers at airports.</td>\n",
              "      <td>NaN</td>\n",
              "      <td>1/27/2020</td>\n",
              "      <td>Afghanistan MoPH</td>\n",
              "      <td>Government</td>\n",
              "      <td>https://www.facebook.com/af.moph/photos/a.4625...</td>\n",
              "      <td>4/7/2020</td>\n",
              "      <td>NaN</td>\n",
              "    </tr>\n",
              "    <tr>\n",
              "      <th>4</th>\n",
              "      <td>23</td>\n",
              "      <td>AFG</td>\n",
              "      <td>Afghanistan</td>\n",
              "      <td>Asia</td>\n",
              "      <td>NaN</td>\n",
              "      <td>NaN</td>\n",
              "      <td>Introduction / extension of measures</td>\n",
              "      <td>Movement restrictions</td>\n",
              "      <td>Border checks</td>\n",
              "      <td>checked</td>\n",
              "      <td>All China and Iran nationals</td>\n",
              "      <td>NaN</td>\n",
              "      <td>2/1/2020</td>\n",
              "      <td>US Embassy</td>\n",
              "      <td>Government</td>\n",
              "      <td>https://af.usembassy.gov/covid-19-information/</td>\n",
              "      <td>3/14/2020</td>\n",
              "      <td>NaN</td>\n",
              "    </tr>\n",
              "  </tbody>\n",
              "</table>\n",
              "</div>\n",
              "      <button class=\"colab-df-convert\" onclick=\"convertToInteractive('df-b1af10fd-5c49-4e19-98d1-efe17cba80a6')\"\n",
              "              title=\"Convert this dataframe to an interactive table.\"\n",
              "              style=\"display:none;\">\n",
              "        \n",
              "  <svg xmlns=\"http://www.w3.org/2000/svg\" height=\"24px\"viewBox=\"0 0 24 24\"\n",
              "       width=\"24px\">\n",
              "    <path d=\"M0 0h24v24H0V0z\" fill=\"none\"/>\n",
              "    <path d=\"M18.56 5.44l.94 2.06.94-2.06 2.06-.94-2.06-.94-.94-2.06-.94 2.06-2.06.94zm-11 1L8.5 8.5l.94-2.06 2.06-.94-2.06-.94L8.5 2.5l-.94 2.06-2.06.94zm10 10l.94 2.06.94-2.06 2.06-.94-2.06-.94-.94-2.06-.94 2.06-2.06.94z\"/><path d=\"M17.41 7.96l-1.37-1.37c-.4-.4-.92-.59-1.43-.59-.52 0-1.04.2-1.43.59L10.3 9.45l-7.72 7.72c-.78.78-.78 2.05 0 2.83L4 21.41c.39.39.9.59 1.41.59.51 0 1.02-.2 1.41-.59l7.78-7.78 2.81-2.81c.8-.78.8-2.07 0-2.86zM5.41 20L4 18.59l7.72-7.72 1.47 1.35L5.41 20z\"/>\n",
              "  </svg>\n",
              "      </button>\n",
              "      \n",
              "  <style>\n",
              "    .colab-df-container {\n",
              "      display:flex;\n",
              "      flex-wrap:wrap;\n",
              "      gap: 12px;\n",
              "    }\n",
              "\n",
              "    .colab-df-convert {\n",
              "      background-color: #E8F0FE;\n",
              "      border: none;\n",
              "      border-radius: 50%;\n",
              "      cursor: pointer;\n",
              "      display: none;\n",
              "      fill: #1967D2;\n",
              "      height: 32px;\n",
              "      padding: 0 0 0 0;\n",
              "      width: 32px;\n",
              "    }\n",
              "\n",
              "    .colab-df-convert:hover {\n",
              "      background-color: #E2EBFA;\n",
              "      box-shadow: 0px 1px 2px rgba(60, 64, 67, 0.3), 0px 1px 3px 1px rgba(60, 64, 67, 0.15);\n",
              "      fill: #174EA6;\n",
              "    }\n",
              "\n",
              "    [theme=dark] .colab-df-convert {\n",
              "      background-color: #3B4455;\n",
              "      fill: #D2E3FC;\n",
              "    }\n",
              "\n",
              "    [theme=dark] .colab-df-convert:hover {\n",
              "      background-color: #434B5C;\n",
              "      box-shadow: 0px 1px 3px 1px rgba(0, 0, 0, 0.15);\n",
              "      filter: drop-shadow(0px 1px 2px rgba(0, 0, 0, 0.3));\n",
              "      fill: #FFFFFF;\n",
              "    }\n",
              "  </style>\n",
              "\n",
              "      <script>\n",
              "        const buttonEl =\n",
              "          document.querySelector('#df-b1af10fd-5c49-4e19-98d1-efe17cba80a6 button.colab-df-convert');\n",
              "        buttonEl.style.display =\n",
              "          google.colab.kernel.accessAllowed ? 'block' : 'none';\n",
              "\n",
              "        async function convertToInteractive(key) {\n",
              "          const element = document.querySelector('#df-b1af10fd-5c49-4e19-98d1-efe17cba80a6');\n",
              "          const dataTable =\n",
              "            await google.colab.kernel.invokeFunction('convertToInteractive',\n",
              "                                                     [key], {});\n",
              "          if (!dataTable) return;\n",
              "\n",
              "          const docLinkHtml = 'Like what you see? Visit the ' +\n",
              "            '<a target=\"_blank\" href=https://colab.research.google.com/notebooks/data_table.ipynb>data table notebook</a>'\n",
              "            + ' to learn more about interactive tables.';\n",
              "          element.innerHTML = '';\n",
              "          dataTable['output_type'] = 'display_data';\n",
              "          await google.colab.output.renderOutput(dataTable, element);\n",
              "          const docLink = document.createElement('div');\n",
              "          docLink.innerHTML = docLinkHtml;\n",
              "          element.appendChild(docLink);\n",
              "        }\n",
              "      </script>\n",
              "    </div>\n",
              "  </div>\n",
              "  "
            ],
            "text/plain": [
              "     ID  ISO  ... ENTRY_DATE Alternative source\n",
              "0  4245  AFG  ...   4/7/2020                NaN\n",
              "1  4246  AFG  ...   4/7/2020                NaN\n",
              "2  4247  AFG  ...   4/7/2020                NaN\n",
              "3  4248  AFG  ...   4/7/2020                NaN\n",
              "4    23  AFG  ...  3/14/2020                NaN\n",
              "\n",
              "[5 rows x 18 columns]"
            ]
          },
          "metadata": {},
          "execution_count": 5
        }
      ]
    },
    {
      "cell_type": "code",
      "source": [
        "df.isna().sum()"
      ],
      "metadata": {
        "id": "fFA_4OO-GyOj",
        "colab": {
          "base_uri": "https://localhost:8080/"
        },
        "outputId": "56244b1b-38e2-4159-896f-98a4f6323ee7"
      },
      "execution_count": 6,
      "outputs": [
        {
          "output_type": "execute_result",
          "data": {
            "text/plain": [
              "ID                        0\n",
              "ISO                       0\n",
              "COUNTRY                   0\n",
              "REGION                    0\n",
              "ADMIN_LEVEL_NAME      20241\n",
              "PCODE                 23923\n",
              "LOG_TYPE                  0\n",
              "CATEGORY                  0\n",
              "MEASURE                   0\n",
              "TARGETED_POP_GROUP    16367\n",
              "COMMENTS                124\n",
              "NON_COMPLIANCE         1159\n",
              "DATE_IMPLEMENTED        293\n",
              "SOURCE                   23\n",
              "SOURCE_TYPE              11\n",
              "LINK                     33\n",
              "ENTRY_DATE                0\n",
              "Alternative source    22144\n",
              "dtype: int64"
            ]
          },
          "metadata": {},
          "execution_count": 6
        }
      ]
    },
    {
      "cell_type": "code",
      "execution_count": null,
      "metadata": {
        "id": "YwVRhaGxFVII"
      },
      "outputs": [],
      "source": [
        "#How many rows\n",
        "\n",
        "#df.info()"
      ]
    },
    {
      "cell_type": "code",
      "source": [
        ""
      ],
      "metadata": {
        "id": "PMkUD9_YGqaa"
      },
      "execution_count": null,
      "outputs": []
    },
    {
      "cell_type": "code",
      "source": [
        ""
      ],
      "metadata": {
        "id": "5RDVHXHZGqNU"
      },
      "execution_count": null,
      "outputs": []
    },
    {
      "cell_type": "code",
      "source": [
        ""
      ],
      "metadata": {
        "id": "M5QZJlucGqEq"
      },
      "execution_count": null,
      "outputs": []
    },
    {
      "cell_type": "code",
      "source": [
        ""
      ],
      "metadata": {
        "id": "hQD7uLeGGqAB"
      },
      "execution_count": null,
      "outputs": []
    },
    {
      "cell_type": "markdown",
      "source": [
        "#Second choice: dataset 2\n",
        "\n",
        "1) Source of data\n",
        "\n",
        "2) Brief description of data\n",
        "\n",
        "3) What is the target?\n",
        "\n",
        "4) Is this a classification or regression problem?\n",
        "\n",
        "5) How many features?\n",
        "\n",
        "6) How many rows of data.\n",
        "\n",
        "7) What, if any, challenges do your foresee in cleaning, exploring, or modeling with this dataset?"
      ],
      "metadata": {
        "id": "nretSDlOFr0r"
      }
    },
    {
      "cell_type": "code",
      "source": [
        "# 1)\n",
        "    \n",
        "# Harmonized COVID-19 Household Monitoring Surveys\n",
        "#Source: https://datacatalog.worldbank.org/search/dataset/0037769/Harmonized-COVID-19-Household-Monitoring-Surveys\n",
        "\n",
        "# 2) \n",
        "\n",
        "# Data contains info about socioeconomic impacts on households and individuals.\n",
        "\n",
        "# 3)\n",
        "\n",
        "# "
      ],
      "metadata": {
        "id": "0vEEHOf4FuZ8"
      },
      "execution_count": null,
      "outputs": []
    },
    {
      "cell_type": "code",
      "source": [
        ""
      ],
      "metadata": {
        "id": "XiukTBEWWT3s"
      },
      "execution_count": null,
      "outputs": []
    }
  ]
}